{
 "cells": [
  {
   "cell_type": "code",
   "execution_count": 1,
   "metadata": {},
   "outputs": [],
   "source": [
    "# importing the required libaries\n",
    "import pandas as pd\n",
    "import numpy as np\n",
    "import matplotlib.pyplot as plt\n",
    "import seaborn as sns\n",
    "import scipy.stats as stats\n",
    "%matplotlib inline"
   ]
  },
  {
   "cell_type": "code",
   "execution_count": 2,
   "metadata": {},
   "outputs": [
    {
     "data": {
      "text/html": [
       "<div>\n",
       "<style scoped>\n",
       "    .dataframe tbody tr th:only-of-type {\n",
       "        vertical-align: middle;\n",
       "    }\n",
       "\n",
       "    .dataframe tbody tr th {\n",
       "        vertical-align: top;\n",
       "    }\n",
       "\n",
       "    .dataframe thead th {\n",
       "        text-align: right;\n",
       "    }\n",
       "</style>\n",
       "<table border=\"1\" class=\"dataframe\">\n",
       "  <thead>\n",
       "    <tr style=\"text-align: right;\">\n",
       "      <th></th>\n",
       "      <th>Call  Failure</th>\n",
       "      <th>Complains</th>\n",
       "      <th>Subscription  Length</th>\n",
       "      <th>Charge  Amount</th>\n",
       "      <th>Seconds of Use</th>\n",
       "      <th>Frequency of use</th>\n",
       "      <th>Frequency of SMS</th>\n",
       "      <th>Distinct Called Numbers</th>\n",
       "      <th>Age Group</th>\n",
       "      <th>Tariff Plan</th>\n",
       "      <th>Status</th>\n",
       "      <th>Age</th>\n",
       "      <th>Customer Value</th>\n",
       "      <th>FN</th>\n",
       "      <th>FP</th>\n",
       "      <th>Churn</th>\n",
       "    </tr>\n",
       "  </thead>\n",
       "  <tbody>\n",
       "    <tr>\n",
       "      <th>0</th>\n",
       "      <td>8</td>\n",
       "      <td>0</td>\n",
       "      <td>38</td>\n",
       "      <td>0</td>\n",
       "      <td>4370</td>\n",
       "      <td>71</td>\n",
       "      <td>5</td>\n",
       "      <td>17</td>\n",
       "      <td>3</td>\n",
       "      <td>1</td>\n",
       "      <td>1</td>\n",
       "      <td>30</td>\n",
       "      <td>197.640</td>\n",
       "      <td>177.8760</td>\n",
       "      <td>69.7640</td>\n",
       "      <td>0</td>\n",
       "    </tr>\n",
       "    <tr>\n",
       "      <th>1</th>\n",
       "      <td>0</td>\n",
       "      <td>0</td>\n",
       "      <td>39</td>\n",
       "      <td>0</td>\n",
       "      <td>318</td>\n",
       "      <td>5</td>\n",
       "      <td>7</td>\n",
       "      <td>4</td>\n",
       "      <td>2</td>\n",
       "      <td>1</td>\n",
       "      <td>2</td>\n",
       "      <td>25</td>\n",
       "      <td>46.035</td>\n",
       "      <td>41.4315</td>\n",
       "      <td>60.0000</td>\n",
       "      <td>0</td>\n",
       "    </tr>\n",
       "    <tr>\n",
       "      <th>2</th>\n",
       "      <td>10</td>\n",
       "      <td>0</td>\n",
       "      <td>37</td>\n",
       "      <td>0</td>\n",
       "      <td>2453</td>\n",
       "      <td>60</td>\n",
       "      <td>359</td>\n",
       "      <td>24</td>\n",
       "      <td>3</td>\n",
       "      <td>1</td>\n",
       "      <td>1</td>\n",
       "      <td>30</td>\n",
       "      <td>1536.520</td>\n",
       "      <td>1382.8680</td>\n",
       "      <td>203.6520</td>\n",
       "      <td>0</td>\n",
       "    </tr>\n",
       "    <tr>\n",
       "      <th>3</th>\n",
       "      <td>10</td>\n",
       "      <td>0</td>\n",
       "      <td>38</td>\n",
       "      <td>0</td>\n",
       "      <td>4198</td>\n",
       "      <td>66</td>\n",
       "      <td>1</td>\n",
       "      <td>35</td>\n",
       "      <td>1</td>\n",
       "      <td>1</td>\n",
       "      <td>1</td>\n",
       "      <td>15</td>\n",
       "      <td>240.020</td>\n",
       "      <td>216.0180</td>\n",
       "      <td>74.0020</td>\n",
       "      <td>0</td>\n",
       "    </tr>\n",
       "    <tr>\n",
       "      <th>4</th>\n",
       "      <td>3</td>\n",
       "      <td>0</td>\n",
       "      <td>38</td>\n",
       "      <td>0</td>\n",
       "      <td>2393</td>\n",
       "      <td>58</td>\n",
       "      <td>2</td>\n",
       "      <td>33</td>\n",
       "      <td>1</td>\n",
       "      <td>1</td>\n",
       "      <td>1</td>\n",
       "      <td>15</td>\n",
       "      <td>145.805</td>\n",
       "      <td>131.2245</td>\n",
       "      <td>64.5805</td>\n",
       "      <td>0</td>\n",
       "    </tr>\n",
       "    <tr>\n",
       "      <th>...</th>\n",
       "      <td>...</td>\n",
       "      <td>...</td>\n",
       "      <td>...</td>\n",
       "      <td>...</td>\n",
       "      <td>...</td>\n",
       "      <td>...</td>\n",
       "      <td>...</td>\n",
       "      <td>...</td>\n",
       "      <td>...</td>\n",
       "      <td>...</td>\n",
       "      <td>...</td>\n",
       "      <td>...</td>\n",
       "      <td>...</td>\n",
       "      <td>...</td>\n",
       "      <td>...</td>\n",
       "      <td>...</td>\n",
       "    </tr>\n",
       "    <tr>\n",
       "      <th>3145</th>\n",
       "      <td>21</td>\n",
       "      <td>0</td>\n",
       "      <td>19</td>\n",
       "      <td>2</td>\n",
       "      <td>6697</td>\n",
       "      <td>147</td>\n",
       "      <td>92</td>\n",
       "      <td>44</td>\n",
       "      <td>2</td>\n",
       "      <td>2</td>\n",
       "      <td>1</td>\n",
       "      <td>25</td>\n",
       "      <td>721.980</td>\n",
       "      <td>649.7820</td>\n",
       "      <td>122.1980</td>\n",
       "      <td>0</td>\n",
       "    </tr>\n",
       "    <tr>\n",
       "      <th>3146</th>\n",
       "      <td>17</td>\n",
       "      <td>0</td>\n",
       "      <td>17</td>\n",
       "      <td>1</td>\n",
       "      <td>9237</td>\n",
       "      <td>177</td>\n",
       "      <td>80</td>\n",
       "      <td>42</td>\n",
       "      <td>5</td>\n",
       "      <td>1</td>\n",
       "      <td>1</td>\n",
       "      <td>55</td>\n",
       "      <td>261.210</td>\n",
       "      <td>235.0890</td>\n",
       "      <td>76.1210</td>\n",
       "      <td>0</td>\n",
       "    </tr>\n",
       "    <tr>\n",
       "      <th>3147</th>\n",
       "      <td>13</td>\n",
       "      <td>0</td>\n",
       "      <td>18</td>\n",
       "      <td>4</td>\n",
       "      <td>3157</td>\n",
       "      <td>51</td>\n",
       "      <td>38</td>\n",
       "      <td>21</td>\n",
       "      <td>3</td>\n",
       "      <td>1</td>\n",
       "      <td>1</td>\n",
       "      <td>30</td>\n",
       "      <td>280.320</td>\n",
       "      <td>252.2880</td>\n",
       "      <td>78.0320</td>\n",
       "      <td>0</td>\n",
       "    </tr>\n",
       "    <tr>\n",
       "      <th>3148</th>\n",
       "      <td>7</td>\n",
       "      <td>0</td>\n",
       "      <td>11</td>\n",
       "      <td>2</td>\n",
       "      <td>4695</td>\n",
       "      <td>46</td>\n",
       "      <td>222</td>\n",
       "      <td>12</td>\n",
       "      <td>3</td>\n",
       "      <td>1</td>\n",
       "      <td>1</td>\n",
       "      <td>30</td>\n",
       "      <td>1077.640</td>\n",
       "      <td>969.8760</td>\n",
       "      <td>157.7640</td>\n",
       "      <td>0</td>\n",
       "    </tr>\n",
       "    <tr>\n",
       "      <th>3149</th>\n",
       "      <td>8</td>\n",
       "      <td>1</td>\n",
       "      <td>11</td>\n",
       "      <td>2</td>\n",
       "      <td>1792</td>\n",
       "      <td>25</td>\n",
       "      <td>7</td>\n",
       "      <td>9</td>\n",
       "      <td>3</td>\n",
       "      <td>1</td>\n",
       "      <td>1</td>\n",
       "      <td>30</td>\n",
       "      <td>100.680</td>\n",
       "      <td>90.6120</td>\n",
       "      <td>60.0680</td>\n",
       "      <td>1</td>\n",
       "    </tr>\n",
       "  </tbody>\n",
       "</table>\n",
       "<p>3150 rows × 16 columns</p>\n",
       "</div>"
      ],
      "text/plain": [
       "      Call  Failure  Complains  Subscription  Length  Charge  Amount  \\\n",
       "0                 8          0                    38               0   \n",
       "1                 0          0                    39               0   \n",
       "2                10          0                    37               0   \n",
       "3                10          0                    38               0   \n",
       "4                 3          0                    38               0   \n",
       "...             ...        ...                   ...             ...   \n",
       "3145             21          0                    19               2   \n",
       "3146             17          0                    17               1   \n",
       "3147             13          0                    18               4   \n",
       "3148              7          0                    11               2   \n",
       "3149              8          1                    11               2   \n",
       "\n",
       "      Seconds of Use  Frequency of use  Frequency of SMS  \\\n",
       "0               4370                71                 5   \n",
       "1                318                 5                 7   \n",
       "2               2453                60               359   \n",
       "3               4198                66                 1   \n",
       "4               2393                58                 2   \n",
       "...              ...               ...               ...   \n",
       "3145            6697               147                92   \n",
       "3146            9237               177                80   \n",
       "3147            3157                51                38   \n",
       "3148            4695                46               222   \n",
       "3149            1792                25                 7   \n",
       "\n",
       "      Distinct Called Numbers  Age Group  Tariff Plan  Status  Age  \\\n",
       "0                          17          3            1       1   30   \n",
       "1                           4          2            1       2   25   \n",
       "2                          24          3            1       1   30   \n",
       "3                          35          1            1       1   15   \n",
       "4                          33          1            1       1   15   \n",
       "...                       ...        ...          ...     ...  ...   \n",
       "3145                       44          2            2       1   25   \n",
       "3146                       42          5            1       1   55   \n",
       "3147                       21          3            1       1   30   \n",
       "3148                       12          3            1       1   30   \n",
       "3149                        9          3            1       1   30   \n",
       "\n",
       "      Customer Value         FN        FP  Churn  \n",
       "0            197.640   177.8760   69.7640      0  \n",
       "1             46.035    41.4315   60.0000      0  \n",
       "2           1536.520  1382.8680  203.6520      0  \n",
       "3            240.020   216.0180   74.0020      0  \n",
       "4            145.805   131.2245   64.5805      0  \n",
       "...              ...        ...       ...    ...  \n",
       "3145         721.980   649.7820  122.1980      0  \n",
       "3146         261.210   235.0890   76.1210      0  \n",
       "3147         280.320   252.2880   78.0320      0  \n",
       "3148        1077.640   969.8760  157.7640      0  \n",
       "3149         100.680    90.6120   60.0680      1  \n",
       "\n",
       "[3150 rows x 16 columns]"
      ]
     },
     "execution_count": 2,
     "metadata": {},
     "output_type": "execute_result"
    }
   ],
   "source": [
    "# loading the dataset\n",
    "path = 'data\\Customer Churn.csv'\n",
    "churn_data = pd.read_csv(path)\n",
    "\n",
    "churn_data"
   ]
  },
  {
   "cell_type": "code",
   "execution_count": 4,
   "metadata": {},
   "outputs": [
    {
     "data": {
      "text/html": [
       "<div>\n",
       "<style scoped>\n",
       "    .dataframe tbody tr th:only-of-type {\n",
       "        vertical-align: middle;\n",
       "    }\n",
       "\n",
       "    .dataframe tbody tr th {\n",
       "        vertical-align: top;\n",
       "    }\n",
       "\n",
       "    .dataframe thead th {\n",
       "        text-align: right;\n",
       "    }\n",
       "</style>\n",
       "<table border=\"1\" class=\"dataframe\">\n",
       "  <thead>\n",
       "    <tr style=\"text-align: right;\">\n",
       "      <th></th>\n",
       "      <th>Call_Failure</th>\n",
       "      <th>Complains</th>\n",
       "      <th>Subscription_Length</th>\n",
       "      <th>Charge_Amount</th>\n",
       "      <th>Seconds_of_Use</th>\n",
       "      <th>Frequency_of_Use</th>\n",
       "      <th>Frequency_of_Sms</th>\n",
       "      <th>Distinct_Called_Numbers</th>\n",
       "      <th>Age_Group</th>\n",
       "      <th>Tariff_Plan</th>\n",
       "      <th>Status</th>\n",
       "      <th>Age</th>\n",
       "      <th>Customer_Value</th>\n",
       "      <th>FN</th>\n",
       "      <th>FP</th>\n",
       "      <th>Churn</th>\n",
       "    </tr>\n",
       "  </thead>\n",
       "  <tbody>\n",
       "    <tr>\n",
       "      <th>0</th>\n",
       "      <td>8</td>\n",
       "      <td>0</td>\n",
       "      <td>38</td>\n",
       "      <td>0</td>\n",
       "      <td>4370</td>\n",
       "      <td>71</td>\n",
       "      <td>5</td>\n",
       "      <td>17</td>\n",
       "      <td>3</td>\n",
       "      <td>1</td>\n",
       "      <td>1</td>\n",
       "      <td>30</td>\n",
       "      <td>197.640</td>\n",
       "      <td>177.8760</td>\n",
       "      <td>69.7640</td>\n",
       "      <td>0</td>\n",
       "    </tr>\n",
       "    <tr>\n",
       "      <th>1</th>\n",
       "      <td>0</td>\n",
       "      <td>0</td>\n",
       "      <td>39</td>\n",
       "      <td>0</td>\n",
       "      <td>318</td>\n",
       "      <td>5</td>\n",
       "      <td>7</td>\n",
       "      <td>4</td>\n",
       "      <td>2</td>\n",
       "      <td>1</td>\n",
       "      <td>2</td>\n",
       "      <td>25</td>\n",
       "      <td>46.035</td>\n",
       "      <td>41.4315</td>\n",
       "      <td>60.0000</td>\n",
       "      <td>0</td>\n",
       "    </tr>\n",
       "    <tr>\n",
       "      <th>2</th>\n",
       "      <td>10</td>\n",
       "      <td>0</td>\n",
       "      <td>37</td>\n",
       "      <td>0</td>\n",
       "      <td>2453</td>\n",
       "      <td>60</td>\n",
       "      <td>359</td>\n",
       "      <td>24</td>\n",
       "      <td>3</td>\n",
       "      <td>1</td>\n",
       "      <td>1</td>\n",
       "      <td>30</td>\n",
       "      <td>1536.520</td>\n",
       "      <td>1382.8680</td>\n",
       "      <td>203.6520</td>\n",
       "      <td>0</td>\n",
       "    </tr>\n",
       "    <tr>\n",
       "      <th>3</th>\n",
       "      <td>10</td>\n",
       "      <td>0</td>\n",
       "      <td>38</td>\n",
       "      <td>0</td>\n",
       "      <td>4198</td>\n",
       "      <td>66</td>\n",
       "      <td>1</td>\n",
       "      <td>35</td>\n",
       "      <td>1</td>\n",
       "      <td>1</td>\n",
       "      <td>1</td>\n",
       "      <td>15</td>\n",
       "      <td>240.020</td>\n",
       "      <td>216.0180</td>\n",
       "      <td>74.0020</td>\n",
       "      <td>0</td>\n",
       "    </tr>\n",
       "    <tr>\n",
       "      <th>4</th>\n",
       "      <td>3</td>\n",
       "      <td>0</td>\n",
       "      <td>38</td>\n",
       "      <td>0</td>\n",
       "      <td>2393</td>\n",
       "      <td>58</td>\n",
       "      <td>2</td>\n",
       "      <td>33</td>\n",
       "      <td>1</td>\n",
       "      <td>1</td>\n",
       "      <td>1</td>\n",
       "      <td>15</td>\n",
       "      <td>145.805</td>\n",
       "      <td>131.2245</td>\n",
       "      <td>64.5805</td>\n",
       "      <td>0</td>\n",
       "    </tr>\n",
       "  </tbody>\n",
       "</table>\n",
       "</div>"
      ],
      "text/plain": [
       "   Call_Failure  Complains  Subscription_Length  Charge_Amount  \\\n",
       "0             8          0                   38              0   \n",
       "1             0          0                   39              0   \n",
       "2            10          0                   37              0   \n",
       "3            10          0                   38              0   \n",
       "4             3          0                   38              0   \n",
       "\n",
       "   Seconds_of_Use  Frequency_of_Use  Frequency_of_Sms  \\\n",
       "0            4370                71                 5   \n",
       "1             318                 5                 7   \n",
       "2            2453                60               359   \n",
       "3            4198                66                 1   \n",
       "4            2393                58                 2   \n",
       "\n",
       "   Distinct_Called_Numbers  Age_Group  Tariff_Plan  Status  Age  \\\n",
       "0                       17          3            1       1   30   \n",
       "1                        4          2            1       2   25   \n",
       "2                       24          3            1       1   30   \n",
       "3                       35          1            1       1   15   \n",
       "4                       33          1            1       1   15   \n",
       "\n",
       "   Customer_Value         FN        FP  Churn  \n",
       "0         197.640   177.8760   69.7640      0  \n",
       "1          46.035    41.4315   60.0000      0  \n",
       "2        1536.520  1382.8680  203.6520      0  \n",
       "3         240.020   216.0180   74.0020      0  \n",
       "4         145.805   131.2245   64.5805      0  "
      ]
     },
     "execution_count": 4,
     "metadata": {},
     "output_type": "execute_result"
    }
   ],
   "source": [
    "# renaming column\n",
    "churn_data.columns = ['Call_Failure', 'Complains', 'Subscription_Length', 'Charge_Amount',\n",
    "       'Seconds_of_Use', 'Frequency_of_Use', 'Frequency_of_Sms',\n",
    "       'Distinct_Called_Numbers', 'Age_Group', 'Tariff_Plan', 'Status', 'Age',\n",
    "       'Customer_Value', 'FN', 'FP', 'Churn']\n",
    "churn_data.head()"
   ]
  },
  {
   "cell_type": "code",
   "execution_count": 5,
   "metadata": {},
   "outputs": [
    {
     "data": {
      "text/html": [
       "<div>\n",
       "<style scoped>\n",
       "    .dataframe tbody tr th:only-of-type {\n",
       "        vertical-align: middle;\n",
       "    }\n",
       "\n",
       "    .dataframe tbody tr th {\n",
       "        vertical-align: top;\n",
       "    }\n",
       "\n",
       "    .dataframe thead th {\n",
       "        text-align: right;\n",
       "    }\n",
       "</style>\n",
       "<table border=\"1\" class=\"dataframe\">\n",
       "  <thead>\n",
       "    <tr style=\"text-align: right;\">\n",
       "      <th></th>\n",
       "      <th>Call_Failure</th>\n",
       "      <th>Complains</th>\n",
       "      <th>Subscription_Length</th>\n",
       "      <th>Charge_Amount</th>\n",
       "      <th>Seconds_of_Use</th>\n",
       "      <th>Frequency_of_Use</th>\n",
       "      <th>Frequency_of_Sms</th>\n",
       "      <th>Distinct_Called_Numbers</th>\n",
       "      <th>Age_Group</th>\n",
       "      <th>Tariff_Plan</th>\n",
       "      <th>Status</th>\n",
       "      <th>Customer_Value</th>\n",
       "      <th>Churn</th>\n",
       "    </tr>\n",
       "  </thead>\n",
       "  <tbody>\n",
       "    <tr>\n",
       "      <th>0</th>\n",
       "      <td>8</td>\n",
       "      <td>0</td>\n",
       "      <td>38</td>\n",
       "      <td>0</td>\n",
       "      <td>4370</td>\n",
       "      <td>71</td>\n",
       "      <td>5</td>\n",
       "      <td>17</td>\n",
       "      <td>3</td>\n",
       "      <td>1</td>\n",
       "      <td>1</td>\n",
       "      <td>197.640</td>\n",
       "      <td>0</td>\n",
       "    </tr>\n",
       "    <tr>\n",
       "      <th>1</th>\n",
       "      <td>0</td>\n",
       "      <td>0</td>\n",
       "      <td>39</td>\n",
       "      <td>0</td>\n",
       "      <td>318</td>\n",
       "      <td>5</td>\n",
       "      <td>7</td>\n",
       "      <td>4</td>\n",
       "      <td>2</td>\n",
       "      <td>1</td>\n",
       "      <td>2</td>\n",
       "      <td>46.035</td>\n",
       "      <td>0</td>\n",
       "    </tr>\n",
       "    <tr>\n",
       "      <th>2</th>\n",
       "      <td>10</td>\n",
       "      <td>0</td>\n",
       "      <td>37</td>\n",
       "      <td>0</td>\n",
       "      <td>2453</td>\n",
       "      <td>60</td>\n",
       "      <td>359</td>\n",
       "      <td>24</td>\n",
       "      <td>3</td>\n",
       "      <td>1</td>\n",
       "      <td>1</td>\n",
       "      <td>1536.520</td>\n",
       "      <td>0</td>\n",
       "    </tr>\n",
       "    <tr>\n",
       "      <th>3</th>\n",
       "      <td>10</td>\n",
       "      <td>0</td>\n",
       "      <td>38</td>\n",
       "      <td>0</td>\n",
       "      <td>4198</td>\n",
       "      <td>66</td>\n",
       "      <td>1</td>\n",
       "      <td>35</td>\n",
       "      <td>1</td>\n",
       "      <td>1</td>\n",
       "      <td>1</td>\n",
       "      <td>240.020</td>\n",
       "      <td>0</td>\n",
       "    </tr>\n",
       "    <tr>\n",
       "      <th>4</th>\n",
       "      <td>3</td>\n",
       "      <td>0</td>\n",
       "      <td>38</td>\n",
       "      <td>0</td>\n",
       "      <td>2393</td>\n",
       "      <td>58</td>\n",
       "      <td>2</td>\n",
       "      <td>33</td>\n",
       "      <td>1</td>\n",
       "      <td>1</td>\n",
       "      <td>1</td>\n",
       "      <td>145.805</td>\n",
       "      <td>0</td>\n",
       "    </tr>\n",
       "    <tr>\n",
       "      <th>...</th>\n",
       "      <td>...</td>\n",
       "      <td>...</td>\n",
       "      <td>...</td>\n",
       "      <td>...</td>\n",
       "      <td>...</td>\n",
       "      <td>...</td>\n",
       "      <td>...</td>\n",
       "      <td>...</td>\n",
       "      <td>...</td>\n",
       "      <td>...</td>\n",
       "      <td>...</td>\n",
       "      <td>...</td>\n",
       "      <td>...</td>\n",
       "    </tr>\n",
       "    <tr>\n",
       "      <th>3145</th>\n",
       "      <td>21</td>\n",
       "      <td>0</td>\n",
       "      <td>19</td>\n",
       "      <td>2</td>\n",
       "      <td>6697</td>\n",
       "      <td>147</td>\n",
       "      <td>92</td>\n",
       "      <td>44</td>\n",
       "      <td>2</td>\n",
       "      <td>2</td>\n",
       "      <td>1</td>\n",
       "      <td>721.980</td>\n",
       "      <td>0</td>\n",
       "    </tr>\n",
       "    <tr>\n",
       "      <th>3146</th>\n",
       "      <td>17</td>\n",
       "      <td>0</td>\n",
       "      <td>17</td>\n",
       "      <td>1</td>\n",
       "      <td>9237</td>\n",
       "      <td>177</td>\n",
       "      <td>80</td>\n",
       "      <td>42</td>\n",
       "      <td>5</td>\n",
       "      <td>1</td>\n",
       "      <td>1</td>\n",
       "      <td>261.210</td>\n",
       "      <td>0</td>\n",
       "    </tr>\n",
       "    <tr>\n",
       "      <th>3147</th>\n",
       "      <td>13</td>\n",
       "      <td>0</td>\n",
       "      <td>18</td>\n",
       "      <td>4</td>\n",
       "      <td>3157</td>\n",
       "      <td>51</td>\n",
       "      <td>38</td>\n",
       "      <td>21</td>\n",
       "      <td>3</td>\n",
       "      <td>1</td>\n",
       "      <td>1</td>\n",
       "      <td>280.320</td>\n",
       "      <td>0</td>\n",
       "    </tr>\n",
       "    <tr>\n",
       "      <th>3148</th>\n",
       "      <td>7</td>\n",
       "      <td>0</td>\n",
       "      <td>11</td>\n",
       "      <td>2</td>\n",
       "      <td>4695</td>\n",
       "      <td>46</td>\n",
       "      <td>222</td>\n",
       "      <td>12</td>\n",
       "      <td>3</td>\n",
       "      <td>1</td>\n",
       "      <td>1</td>\n",
       "      <td>1077.640</td>\n",
       "      <td>0</td>\n",
       "    </tr>\n",
       "    <tr>\n",
       "      <th>3149</th>\n",
       "      <td>8</td>\n",
       "      <td>1</td>\n",
       "      <td>11</td>\n",
       "      <td>2</td>\n",
       "      <td>1792</td>\n",
       "      <td>25</td>\n",
       "      <td>7</td>\n",
       "      <td>9</td>\n",
       "      <td>3</td>\n",
       "      <td>1</td>\n",
       "      <td>1</td>\n",
       "      <td>100.680</td>\n",
       "      <td>1</td>\n",
       "    </tr>\n",
       "  </tbody>\n",
       "</table>\n",
       "<p>3150 rows × 13 columns</p>\n",
       "</div>"
      ],
      "text/plain": [
       "      Call_Failure  Complains  Subscription_Length  Charge_Amount  \\\n",
       "0                8          0                   38              0   \n",
       "1                0          0                   39              0   \n",
       "2               10          0                   37              0   \n",
       "3               10          0                   38              0   \n",
       "4                3          0                   38              0   \n",
       "...            ...        ...                  ...            ...   \n",
       "3145            21          0                   19              2   \n",
       "3146            17          0                   17              1   \n",
       "3147            13          0                   18              4   \n",
       "3148             7          0                   11              2   \n",
       "3149             8          1                   11              2   \n",
       "\n",
       "      Seconds_of_Use  Frequency_of_Use  Frequency_of_Sms  \\\n",
       "0               4370                71                 5   \n",
       "1                318                 5                 7   \n",
       "2               2453                60               359   \n",
       "3               4198                66                 1   \n",
       "4               2393                58                 2   \n",
       "...              ...               ...               ...   \n",
       "3145            6697               147                92   \n",
       "3146            9237               177                80   \n",
       "3147            3157                51                38   \n",
       "3148            4695                46               222   \n",
       "3149            1792                25                 7   \n",
       "\n",
       "      Distinct_Called_Numbers  Age_Group  Tariff_Plan  Status  Customer_Value  \\\n",
       "0                          17          3            1       1         197.640   \n",
       "1                           4          2            1       2          46.035   \n",
       "2                          24          3            1       1        1536.520   \n",
       "3                          35          1            1       1         240.020   \n",
       "4                          33          1            1       1         145.805   \n",
       "...                       ...        ...          ...     ...             ...   \n",
       "3145                       44          2            2       1         721.980   \n",
       "3146                       42          5            1       1         261.210   \n",
       "3147                       21          3            1       1         280.320   \n",
       "3148                       12          3            1       1        1077.640   \n",
       "3149                        9          3            1       1         100.680   \n",
       "\n",
       "      Churn  \n",
       "0         0  \n",
       "1         0  \n",
       "2         0  \n",
       "3         0  \n",
       "4         0  \n",
       "...     ...  \n",
       "3145      0  \n",
       "3146      0  \n",
       "3147      0  \n",
       "3148      0  \n",
       "3149      1  \n",
       "\n",
       "[3150 rows x 13 columns]"
      ]
     },
     "execution_count": 5,
     "metadata": {},
     "output_type": "execute_result"
    }
   ],
   "source": [
    "# removing some features from the dataset, by dropping the unimportant columns as it is not mentioned in the dataset information\n",
    "\n",
    "churn_data.drop(['FN', 'FP', 'Age'], axis=1, inplace=True)\n",
    "churn_data"
   ]
  },
  {
   "cell_type": "markdown",
   "metadata": {},
   "source": [
    "                                                          MODELLING\n",
    "\n",
    "*The problem we are trying to solve is a Classification Problem. we are trying to take each customer and classify them into either the Non-Churn Class (denoted as a 0) or the Churn Class (denoted as a 1).*\n",
    "\n",
    "*The target (Dependent variable) is the Churn Variable.*\n",
    "\n",
    "*The 3 different ML Algorithm that will be use are; the Logistic regression, the Decision Tree Algorithm and the Naive bayes Algorithm.*"
   ]
  },
  {
   "cell_type": "code",
   "execution_count": 54,
   "metadata": {},
   "outputs": [],
   "source": [
    "# Import Machine learning algorithms\n",
    "from sklearn.linear_model import LogisticRegression\n",
    "from sklearn.svm import SVC\n",
    "from sklearn.ensemble import RandomForestClassifier\n",
    "from sklearn.tree import DecisionTreeClassifier\n",
    "from sklearn.naive_bayes import GaussianNB\n",
    "from sklearn.preprocessing import StandardScaler"
   ]
  },
  {
   "cell_type": "code",
   "execution_count": 13,
   "metadata": {},
   "outputs": [],
   "source": [
    "#Import metric for performance evaluation\n",
    "from sklearn.metrics import accuracy_score, precision_score, recall_score, f1_score"
   ]
  },
  {
   "cell_type": "code",
   "execution_count": 14,
   "metadata": {},
   "outputs": [],
   "source": [
    "#Spliting data into train and test sets\n",
    "from sklearn.model_selection import train_test_split\n",
    "X = churn_data.drop('Churn', axis=1)\n",
    "y = churn_data['Churn']\n",
    "X_train, X_test, y_train, y_test = train_test_split(X, y, test_size=0.2, random_state=1)  "
   ]
  },
  {
   "cell_type": "code",
   "execution_count": 15,
   "metadata": {},
   "outputs": [],
   "source": [
    "#Defining the modelling function\n",
    "def modeling(alg, alg_name, params={}):\n",
    "    model = alg(**params) #Instantiating the algorithm class and unpacking parameters if any\n",
    "    model.fit(X_train, y_train)\n",
    "    y_pred = model.predict(X_test)\n",
    "    \n",
    "    #Performance evaluation\n",
    "    def print_scores(alg, y_true, y_pred):\n",
    "        print(alg_name)\n",
    "        acc_score = accuracy_score(y_true, y_pred)\n",
    "        print(\"accuracy: \",acc_score)\n",
    "        pre_score = precision_score(y_true, y_pred)\n",
    "        print(\"precision: \",pre_score)\n",
    "        rec_score = recall_score(y_true, y_pred)                            \n",
    "        print(\"recall: \",rec_score)\n",
    "        f_score = f1_score(y_true, y_pred, average='weighted')\n",
    "        print(\"f1_score: \",f_score)\n",
    "\n",
    "    print_scores(alg, y_test, y_pred)\n",
    "    return model"
   ]
  },
  {
   "cell_type": "markdown",
   "metadata": {},
   "source": [
    "### Logistic regression Algorithm\n",
    "\n",
    "*Logistic regression is a statistical model that uses a logistic function to model a binary\n",
    "dependent variable. Mathematically, a binary logistic model has a dependent variable with two possible values,\n",
    "in this case, it is Churn/none-Churn which is represented by an indicator variable, where the two values are labeled \"0\" and \"1\".*"
   ]
  },
  {
   "cell_type": "code",
   "execution_count": 16,
   "metadata": {},
   "outputs": [
    {
     "name": "stdout",
     "output_type": "stream",
     "text": [
      "Logistic Regression\n",
      "accuracy:  0.8587301587301587\n",
      "precision:  0.4791666666666667\n",
      "recall:  0.26436781609195403\n",
      "f1_score:  0.8407731922398589\n"
     ]
    },
    {
     "name": "stderr",
     "output_type": "stream",
     "text": [
      "C:\\Users\\USER\\AppData\\Local\\Programs\\Python\\Python39\\lib\\site-packages\\sklearn\\linear_model\\_logistic.py:814: ConvergenceWarning: lbfgs failed to converge (status=1):\n",
      "STOP: TOTAL NO. of ITERATIONS REACHED LIMIT.\n",
      "\n",
      "Increase the number of iterations (max_iter) or scale the data as shown in:\n",
      "    https://scikit-learn.org/stable/modules/preprocessing.html\n",
      "Please also refer to the documentation for alternative solver options:\n",
      "    https://scikit-learn.org/stable/modules/linear_model.html#logistic-regression\n",
      "  n_iter_i = _check_optimize_result(\n"
     ]
    }
   ],
   "source": [
    "# Logistic Regression Model Algorithm\n",
    "logR_model = modeling(LogisticRegression, 'Logistic Regression')"
   ]
  },
  {
   "cell_type": "markdown",
   "metadata": {},
   "source": [
    "                                                                Inference\n",
    "\n",
    "*Accuracy of 0.86 indicates that 86% of the customers were correctly classified.*\n",
    "\n",
    "*Precision of 0.47 indicates that 47% of the churned customers predicted by the model have actually churned.*\n",
    "\n",
    "*Recall score of 0.26 indicates that the model was able to predict 26% of the actual churned customers as\n",
    "churned.*\n",
    "\n",
    "*F1 score of 0.84 out of maximum of 1 indicates that the model performs really well.*"
   ]
  },
  {
   "cell_type": "markdown",
   "metadata": {},
   "source": [
    "#### Decision Tree Algorithm\n",
    "\n",
    "*The decision tree algorithm can be used for solving regression and classification problems. The goal of using a Decision Tree is to create a training model that can use to predict the class or value of the target variable by learning simple decision rules inferred from the training data.*"
   ]
  },
  {
   "cell_type": "code",
   "execution_count": 17,
   "metadata": {},
   "outputs": [
    {
     "name": "stdout",
     "output_type": "stream",
     "text": [
      "Decision Tree Classification\n",
      "accuracy:  0.9444444444444444\n",
      "precision:  0.7888888888888889\n",
      "recall:  0.8160919540229885\n",
      "f1_score:  0.944838307484441\n"
     ]
    }
   ],
   "source": [
    "# Decision Tree Classifier Algorithm\n",
    "decT_model = modeling(DecisionTreeClassifier, \"Decision Tree Classification\")"
   ]
  },
  {
   "cell_type": "markdown",
   "metadata": {},
   "source": [
    "                                                     Inference\n",
    "\n",
    "*Accuracy of 0.94 indicates that 94% of the customers were correctly classified.*\n",
    "\n",
    "*Precision of 0.79 indicates that 79% of the churned customers predicted by the model have actually churned.*\n",
    "\n",
    "*Recall score of 0.82 indicates that the model was able to predict 82% of the actual churned customers as\n",
    "churned.*\n",
    "\n",
    "*F1 score of 0.94 out of maximum of 1 indicates that the model performs really well.*"
   ]
  },
  {
   "cell_type": "markdown",
   "metadata": {},
   "source": [
    "### Naive Bayes Classifier Algorithm\n",
    "\n",
    "*The Naive Bayes classification algorithm is a probabilistic classifier. It assumes that the presence of a particular feature in a class is unrelated to the presence of any other feature.*"
   ]
  },
  {
   "cell_type": "code",
   "execution_count": 18,
   "metadata": {},
   "outputs": [
    {
     "name": "stdout",
     "output_type": "stream",
     "text": [
      "Naive Bayes Classification\n",
      "accuracy:  0.7238095238095238\n",
      "precision:  0.33073929961089493\n",
      "recall:  0.9770114942528736\n",
      "f1_score:  0.7664252346617535\n"
     ]
    }
   ],
   "source": [
    "# Naive Bayes Algorithm \n",
    "naB_model = modeling(GaussianNB, \"Naive Bayes Classification\")"
   ]
  },
  {
   "cell_type": "markdown",
   "metadata": {},
   "source": [
    "                                                             Inference\n",
    "\n",
    "*Accuracy of 0.72 indicates that 65% of the customers were correctly classified.*\n",
    "\n",
    "*Precision of 0.33 indicates that 33% of the churned customers predicted by the model have actually churned.*\n",
    "\n",
    "*Recall score of 0.97 indicates that the model was able to predict 97% of the actual churned customers as\n",
    "churned.*\n",
    "\n",
    "*F1 score of 0.76 out of maximum of 1 indicates that the model performs really well.*"
   ]
  },
  {
   "cell_type": "markdown",
   "metadata": {},
   "source": [
    "The Appropriate Metrics used shows:\n",
    "\n",
    "*Accuracy - Accuracy is the most intuitive performance measure and it is simply a ratio of correctly predicted observation to the total observations. One may think that, if we have high accuracy then our model is best. Accuracy is a great measure but only when you have symmetric datasets where values of false positive and false negatives are almost same. Therefore, you have to look at other parameters to evaluate the performance of your model.*\n",
    "\n",
    "\n",
    "*Precision - Precision is the ratio of correctly predicted positive observations to the total predicted positive observations. The question that this metric answer is of all customers labeled as churn, how many actually churned? High precision relates to the low false positive rate.* \n",
    "\n",
    "*Recall - Recall is the ratio of correctly predicted positive observations to the all observations in actual class. The question recall answers is: Of all the customers that truly churned, how many did we label? for recall values to be considered good, the values should be above 0.5. The performance metrics with a good recall value is the Decision Tree Classifier Algorithm.*\n",
    "\n",
    "*F1 score - The F1 Score is the harmonic mean of Precision and Recall. It helps give us a balanced idea of how the model is performing on the Churn class. In this case a Churn Class F1 Score of 0.8 to 0.95 is pretty good. There is usually a trade off between Precision and Recall. Intuitively it is not as easy to understand as accuracy, but F1 is usually more useful than accuracy, especially if you have an uneven class distribution. Accuracy works best if false positives and false negatives have similar cost. If the cost of false positives and false negatives are very different, it’s better to look at both Precision and Recall.*\n",
    "\n",
    "*From the three selected performance metrics, the Decision Tree Classifier Algorithm has the highest scores across all chosen metrics*"
   ]
  },
  {
   "cell_type": "markdown",
   "metadata": {},
   "source": [
    "                                                FEATURE SELECTION\n",
    "\n",
    "Feature is more commonly used term in machine learning, whereas independent variable is more common in statistics. Feature and independent variable are different terms used for the same thing. A feature is a measurable property of the object you’re trying to analyze. In datasets, features appear as columns.The quality of the features in your dataset has a major impact on the quality of the insights you will gain when you use that dataset for machine learning.\n",
    "\n",
    "The reason why Feature selection method is used, is because, Machine learning models basically follow a simple rule: whatever goes in as input comes back. What this means is that, If we put garbage into our model, we can expect the output to be garbage too. Garbage here refers to noisy data.\n",
    "\n",
    "Before a model is trainned, we collect various quantities of data that helps the machine learn better. Usually, a good portion of the data collected is noise, while some of the columns of our dataset might not contribute significantly to the performance of our model. Basically, having so much data can slow down the training process and cause the model to be a bit slower. The model may also learn from this irrelevant data and be inaccurate.\n",
    "\n",
    "Feature selection method is reducing the number of variables (input variables) in the process of developing a predictive model. Reducing the number of input variables helps reduces the computational cost of modeling and also helps to improve the performance of the model.\n"
   ]
  },
  {
   "cell_type": "code",
   "execution_count": 19,
   "metadata": {},
   "outputs": [
    {
     "data": {
      "text/plain": [
       "<AxesSubplot:>"
      ]
     },
     "execution_count": 19,
     "metadata": {},
     "output_type": "execute_result"
    },
    {
     "data": {
      "image/png": "[encoded data removed]",
      "text/plain": [
       "<Figure size 720x1008 with 2 Axes>"
      ]
     },
     "metadata": {
      "needs_background": "light"
     },
     "output_type": "display_data"
    }
   ],
   "source": [
    "# getting the correlation values using Pearson's method and then visualize the correlations using Heatmap\n",
    "fig, ax = plt.subplots(figsize=(10,14))\n",
    "churn_data_corr = churn_data.corr()[['Churn']].sort_values(\n",
    "  by='Churn', ascending=False)\n",
    "sns.heatmap(churn_data_corr, annot=True, ax=ax)"
   ]
  },
  {
   "cell_type": "code",
   "execution_count": 20,
   "metadata": {},
   "outputs": [],
   "source": [
    "# creating  correlation matrix for the columns in the dataset and an empty set that will contain all the correlated features\n",
    "correlated_features = set()\n",
    "correlation_matrix = churn_data.corr()"
   ]
  },
  {
   "cell_type": "code",
   "execution_count": 21,
   "metadata": {},
   "outputs": [],
   "source": [
    "# looping through all the columns in the correlation matrix.\n",
    "for i in range(len(correlation_matrix .columns)):\n",
    "    for j in range(i):\n",
    "        if abs(correlation_matrix.iloc[i, j]) > 0.7: # adding the columns with a correlation value of 0.7 to the\n",
    "            colname = correlation_matrix.columns[i]\n",
    "            correlated_features.add(colname)"
   ]
  },
  {
   "cell_type": "code",
   "execution_count": 22,
   "metadata": {},
   "outputs": [
    {
     "name": "stdout",
     "output_type": "stream",
     "text": [
      "{'Frequency_of_Use', 'Customer_Value', 'Distinct_Called_Numbers'}\n"
     ]
    }
   ],
   "source": [
    "# printing the names of the correlated features\n",
    "print(correlated_features)"
   ]
  },
  {
   "cell_type": "code",
   "execution_count": 23,
   "metadata": {},
   "outputs": [
    {
     "data": {
      "text/html": [
       "<div>\n",
       "<style scoped>\n",
       "    .dataframe tbody tr th:only-of-type {\n",
       "        vertical-align: middle;\n",
       "    }\n",
       "\n",
       "    .dataframe tbody tr th {\n",
       "        vertical-align: top;\n",
       "    }\n",
       "\n",
       "    .dataframe thead th {\n",
       "        text-align: right;\n",
       "    }\n",
       "</style>\n",
       "<table border=\"1\" class=\"dataframe\">\n",
       "  <thead>\n",
       "    <tr style=\"text-align: right;\">\n",
       "      <th></th>\n",
       "      <th>Call_Failure</th>\n",
       "      <th>Complains</th>\n",
       "      <th>Subscription_Length</th>\n",
       "      <th>Charge_Amount</th>\n",
       "      <th>Seconds_of_Use</th>\n",
       "      <th>Frequency_of_Sms</th>\n",
       "      <th>Age_Group</th>\n",
       "      <th>Tariff_Plan</th>\n",
       "      <th>Status</th>\n",
       "      <th>Churn</th>\n",
       "    </tr>\n",
       "  </thead>\n",
       "  <tbody>\n",
       "    <tr>\n",
       "      <th>0</th>\n",
       "      <td>8</td>\n",
       "      <td>0</td>\n",
       "      <td>38</td>\n",
       "      <td>0</td>\n",
       "      <td>4370</td>\n",
       "      <td>5</td>\n",
       "      <td>3</td>\n",
       "      <td>1</td>\n",
       "      <td>1</td>\n",
       "      <td>0</td>\n",
       "    </tr>\n",
       "    <tr>\n",
       "      <th>1</th>\n",
       "      <td>0</td>\n",
       "      <td>0</td>\n",
       "      <td>39</td>\n",
       "      <td>0</td>\n",
       "      <td>318</td>\n",
       "      <td>7</td>\n",
       "      <td>2</td>\n",
       "      <td>1</td>\n",
       "      <td>2</td>\n",
       "      <td>0</td>\n",
       "    </tr>\n",
       "    <tr>\n",
       "      <th>2</th>\n",
       "      <td>10</td>\n",
       "      <td>0</td>\n",
       "      <td>37</td>\n",
       "      <td>0</td>\n",
       "      <td>2453</td>\n",
       "      <td>359</td>\n",
       "      <td>3</td>\n",
       "      <td>1</td>\n",
       "      <td>1</td>\n",
       "      <td>0</td>\n",
       "    </tr>\n",
       "    <tr>\n",
       "      <th>3</th>\n",
       "      <td>10</td>\n",
       "      <td>0</td>\n",
       "      <td>38</td>\n",
       "      <td>0</td>\n",
       "      <td>4198</td>\n",
       "      <td>1</td>\n",
       "      <td>1</td>\n",
       "      <td>1</td>\n",
       "      <td>1</td>\n",
       "      <td>0</td>\n",
       "    </tr>\n",
       "    <tr>\n",
       "      <th>4</th>\n",
       "      <td>3</td>\n",
       "      <td>0</td>\n",
       "      <td>38</td>\n",
       "      <td>0</td>\n",
       "      <td>2393</td>\n",
       "      <td>2</td>\n",
       "      <td>1</td>\n",
       "      <td>1</td>\n",
       "      <td>1</td>\n",
       "      <td>0</td>\n",
       "    </tr>\n",
       "    <tr>\n",
       "      <th>...</th>\n",
       "      <td>...</td>\n",
       "      <td>...</td>\n",
       "      <td>...</td>\n",
       "      <td>...</td>\n",
       "      <td>...</td>\n",
       "      <td>...</td>\n",
       "      <td>...</td>\n",
       "      <td>...</td>\n",
       "      <td>...</td>\n",
       "      <td>...</td>\n",
       "    </tr>\n",
       "    <tr>\n",
       "      <th>3145</th>\n",
       "      <td>21</td>\n",
       "      <td>0</td>\n",
       "      <td>19</td>\n",
       "      <td>2</td>\n",
       "      <td>6697</td>\n",
       "      <td>92</td>\n",
       "      <td>2</td>\n",
       "      <td>2</td>\n",
       "      <td>1</td>\n",
       "      <td>0</td>\n",
       "    </tr>\n",
       "    <tr>\n",
       "      <th>3146</th>\n",
       "      <td>17</td>\n",
       "      <td>0</td>\n",
       "      <td>17</td>\n",
       "      <td>1</td>\n",
       "      <td>9237</td>\n",
       "      <td>80</td>\n",
       "      <td>5</td>\n",
       "      <td>1</td>\n",
       "      <td>1</td>\n",
       "      <td>0</td>\n",
       "    </tr>\n",
       "    <tr>\n",
       "      <th>3147</th>\n",
       "      <td>13</td>\n",
       "      <td>0</td>\n",
       "      <td>18</td>\n",
       "      <td>4</td>\n",
       "      <td>3157</td>\n",
       "      <td>38</td>\n",
       "      <td>3</td>\n",
       "      <td>1</td>\n",
       "      <td>1</td>\n",
       "      <td>0</td>\n",
       "    </tr>\n",
       "    <tr>\n",
       "      <th>3148</th>\n",
       "      <td>7</td>\n",
       "      <td>0</td>\n",
       "      <td>11</td>\n",
       "      <td>2</td>\n",
       "      <td>4695</td>\n",
       "      <td>222</td>\n",
       "      <td>3</td>\n",
       "      <td>1</td>\n",
       "      <td>1</td>\n",
       "      <td>0</td>\n",
       "    </tr>\n",
       "    <tr>\n",
       "      <th>3149</th>\n",
       "      <td>8</td>\n",
       "      <td>1</td>\n",
       "      <td>11</td>\n",
       "      <td>2</td>\n",
       "      <td>1792</td>\n",
       "      <td>7</td>\n",
       "      <td>3</td>\n",
       "      <td>1</td>\n",
       "      <td>1</td>\n",
       "      <td>1</td>\n",
       "    </tr>\n",
       "  </tbody>\n",
       "</table>\n",
       "<p>3150 rows × 10 columns</p>\n",
       "</div>"
      ],
      "text/plain": [
       "      Call_Failure  Complains  Subscription_Length  Charge_Amount  \\\n",
       "0                8          0                   38              0   \n",
       "1                0          0                   39              0   \n",
       "2               10          0                   37              0   \n",
       "3               10          0                   38              0   \n",
       "4                3          0                   38              0   \n",
       "...            ...        ...                  ...            ...   \n",
       "3145            21          0                   19              2   \n",
       "3146            17          0                   17              1   \n",
       "3147            13          0                   18              4   \n",
       "3148             7          0                   11              2   \n",
       "3149             8          1                   11              2   \n",
       "\n",
       "      Seconds_of_Use  Frequency_of_Sms  Age_Group  Tariff_Plan  Status  Churn  \n",
       "0               4370                 5          3            1       1      0  \n",
       "1                318                 7          2            1       2      0  \n",
       "2               2453               359          3            1       1      0  \n",
       "3               4198                 1          1            1       1      0  \n",
       "4               2393                 2          1            1       1      0  \n",
       "...              ...               ...        ...          ...     ...    ...  \n",
       "3145            6697                92          2            2       1      0  \n",
       "3146            9237                80          5            1       1      0  \n",
       "3147            3157                38          3            1       1      0  \n",
       "3148            4695               222          3            1       1      0  \n",
       "3149            1792                 7          3            1       1      1  \n",
       "\n",
       "[3150 rows x 10 columns]"
      ]
     },
     "execution_count": 23,
     "metadata": {},
     "output_type": "execute_result"
    }
   ],
   "source": [
    "# dropping correlated features\n",
    "churn_data.drop(labels=correlated_features, axis=1, inplace=True)\n",
    "churn_data"
   ]
  },
  {
   "cell_type": "code",
   "execution_count": 27,
   "metadata": {},
   "outputs": [
    {
     "name": "stderr",
     "output_type": "stream",
     "text": [
      "C:\\Users\\USER\\AppData\\Local\\Programs\\Python\\Python39\\lib\\site-packages\\seaborn\\_decorators.py:36: FutureWarning: Pass the following variable as a keyword arg: x. From version 0.12, the only valid positional argument will be `data`, and passing other arguments without an explicit keyword will result in an error or misinterpretation.\n",
      "  warnings.warn(\n"
     ]
    },
    {
     "data": {
      "text/plain": [
       "<AxesSubplot:xlabel='Call_Failure'>"
      ]
     },
     "execution_count": 27,
     "metadata": {},
     "output_type": "execute_result"
    },
    {
     "data": {
      "image/png": "[encoded data removed]",
      "text/plain": [
       "<Figure size 432x288 with 1 Axes>"
      ]
     },
     "metadata": {
      "needs_background": "light"
     },
     "output_type": "display_data"
    }
   ],
   "source": [
    "sns.boxplot(churn_data['Call_Failure'])"
   ]
  },
  {
   "cell_type": "markdown",
   "metadata": {},
   "source": [
    "*In the above graph, it is clearly shown that values above 35 are acting as the outliers.*"
   ]
  },
  {
   "cell_type": "code",
   "execution_count": 25,
   "metadata": {},
   "outputs": [
    {
     "name": "stderr",
     "output_type": "stream",
     "text": [
      "C:\\Users\\USER\\AppData\\Local\\Programs\\Python\\Python39\\lib\\site-packages\\seaborn\\_decorators.py:36: FutureWarning: Pass the following variable as a keyword arg: x. From version 0.12, the only valid positional argument will be `data`, and passing other arguments without an explicit keyword will result in an error or misinterpretation.\n",
      "  warnings.warn(\n"
     ]
    },
    {
     "data": {
      "text/plain": [
       "<AxesSubplot:xlabel='Subscription_Length'>"
      ]
     },
     "execution_count": 25,
     "metadata": {},
     "output_type": "execute_result"
    },
    {
     "data": {
      "image/png": "[encoded data removed]",
      "text/plain": [
       "<Figure size 432x288 with 1 Axes>"
      ]
     },
     "metadata": {
      "needs_background": "light"
     },
     "output_type": "display_data"
    }
   ],
   "source": [
    "# outliners \n",
    "sns.boxplot(churn_data['Subscription_Length'])"
   ]
  },
  {
   "cell_type": "markdown",
   "metadata": {},
   "source": [
    "*In the above graph, it is clearly shown that values below 20 are acting as the outliers.*"
   ]
  },
  {
   "cell_type": "code",
   "execution_count": 29,
   "metadata": {},
   "outputs": [
    {
     "name": "stderr",
     "output_type": "stream",
     "text": [
      "C:\\Users\\USER\\AppData\\Local\\Programs\\Python\\Python39\\lib\\site-packages\\seaborn\\_decorators.py:36: FutureWarning: Pass the following variable as a keyword arg: x. From version 0.12, the only valid positional argument will be `data`, and passing other arguments without an explicit keyword will result in an error or misinterpretation.\n",
      "  warnings.warn(\n"
     ]
    },
    {
     "data": {
      "text/plain": [
       "<AxesSubplot:xlabel='Charge_Amount'>"
      ]
     },
     "execution_count": 29,
     "metadata": {},
     "output_type": "execute_result"
    },
    {
     "data": {
      "image/png": "[encoded data removed]",
      "text/plain": [
       "<Figure size 432x288 with 1 Axes>"
      ]
     },
     "metadata": {
      "needs_background": "light"
     },
     "output_type": "display_data"
    }
   ],
   "source": [
    "# outliners \n",
    "sns.boxplot(churn_data['Charge_Amount'])"
   ]
  },
  {
   "cell_type": "markdown",
   "metadata": {},
   "source": [
    "*In the above graph, it is clearly shown that values above 2 are acting as the outliers.*"
   ]
  },
  {
   "cell_type": "code",
   "execution_count": 30,
   "metadata": {},
   "outputs": [
    {
     "name": "stderr",
     "output_type": "stream",
     "text": [
      "C:\\Users\\USER\\AppData\\Local\\Programs\\Python\\Python39\\lib\\site-packages\\seaborn\\_decorators.py:36: FutureWarning: Pass the following variable as a keyword arg: x. From version 0.12, the only valid positional argument will be `data`, and passing other arguments without an explicit keyword will result in an error or misinterpretation.\n",
      "  warnings.warn(\n"
     ]
    },
    {
     "data": {
      "text/plain": [
       "<AxesSubplot:xlabel='Seconds_of_Use'>"
      ]
     },
     "execution_count": 30,
     "metadata": {},
     "output_type": "execute_result"
    },
    {
     "data": {
      "image/png": "[encoded data removed]",
      "text/plain": [
       "<Figure size 432x288 with 1 Axes>"
      ]
     },
     "metadata": {
      "needs_background": "light"
     },
     "output_type": "display_data"
    }
   ],
   "source": [
    "# outliners \n",
    "sns.boxplot(churn_data['Seconds_of_Use'])"
   ]
  },
  {
   "cell_type": "markdown",
   "metadata": {},
   "source": [
    "*In the above graph, it is clearly shown that values above 15000 are acting as the outliers.*"
   ]
  },
  {
   "cell_type": "code",
   "execution_count": 31,
   "metadata": {},
   "outputs": [
    {
     "name": "stderr",
     "output_type": "stream",
     "text": [
      "C:\\Users\\USER\\AppData\\Local\\Programs\\Python\\Python39\\lib\\site-packages\\seaborn\\_decorators.py:36: FutureWarning: Pass the following variable as a keyword arg: x. From version 0.12, the only valid positional argument will be `data`, and passing other arguments without an explicit keyword will result in an error or misinterpretation.\n",
      "  warnings.warn(\n"
     ]
    },
    {
     "data": {
      "text/plain": [
       "<AxesSubplot:xlabel='Frequency_of_Sms'>"
      ]
     },
     "execution_count": 31,
     "metadata": {},
     "output_type": "execute_result"
    },
    {
     "data": {
      "image/png": "[encoded data removed]",
      "text/plain": [
       "<Figure size 432x288 with 1 Axes>"
      ]
     },
     "metadata": {
      "needs_background": "light"
     },
     "output_type": "display_data"
    }
   ],
   "source": [
    "# outliners \n",
    "sns.boxplot(churn_data['Frequency_of_Sms'])"
   ]
  },
  {
   "cell_type": "markdown",
   "metadata": {},
   "source": [
    "*In the above graph, it is clearly shown that values above 200 are acting as the outliers.*"
   ]
  },
  {
   "cell_type": "code",
   "execution_count": 39,
   "metadata": {},
   "outputs": [
    {
     "name": "stderr",
     "output_type": "stream",
     "text": [
      "C:\\Users\\USER\\AppData\\Local\\Programs\\Python\\Python39\\lib\\site-packages\\seaborn\\_decorators.py:36: FutureWarning: Pass the following variable as a keyword arg: x. From version 0.12, the only valid positional argument will be `data`, and passing other arguments without an explicit keyword will result in an error or misinterpretation.\n",
      "  warnings.warn(\n"
     ]
    },
    {
     "data": {
      "text/plain": [
       "<AxesSubplot:xlabel='Age_Group'>"
      ]
     },
     "execution_count": 39,
     "metadata": {},
     "output_type": "execute_result"
    },
    {
     "data": {
      "image/png": "[encoded data removed]",
      "text/plain": [
       "<Figure size 432x288 with 1 Axes>"
      ]
     },
     "metadata": {
      "needs_background": "light"
     },
     "output_type": "display_data"
    }
   ],
   "source": [
    "# outliners \n",
    "sns.boxplot(churn_data['Age_Group'])"
   ]
  },
  {
   "cell_type": "markdown",
   "metadata": {},
   "source": [
    "*In the above graph, it is clearly shown that values above 5.0 are acting as the outliers.*"
   ]
  }
 ],
 "metadata": {
  "interpreter": {
   "hash": "23300995598eec4bcf6bd89cf02d1c3675e8b2616661418dbbf5580aa901878d"
  },
  "kernelspec": {
   "display_name": "Python 3.9.7 64-bit",
   "language": "python",
   "name": "python3"
  },
  "language_info": {
   "codemirror_mode": {
    "name": "ipython",
    "version": 3
   },
   "file_extension": ".py",
   "mimetype": "text/x-python",
   "name": "python",
   "nbconvert_exporter": "python",
   "pygments_lexer": "ipython3",
   "version": "3.9.7"
  },
  "orig_nbformat": 4
 },
 "nbformat": 4,
 "nbformat_minor": 2
}
